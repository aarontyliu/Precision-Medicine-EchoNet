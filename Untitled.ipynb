{
 "cells": [
  {
   "cell_type": "code",
   "execution_count": 11,
   "id": "571a0abb-f17b-4135-81ad-0f59edc230a0",
   "metadata": {},
   "outputs": [],
   "source": [
    "import torch\n",
    "from torch import nn"
   ]
  },
  {
   "cell_type": "code",
   "execution_count": 12,
   "id": "bdab087c-350e-4bb2-b06a-49484e7ae64d",
   "metadata": {},
   "outputs": [],
   "source": [
    "x = torch.arange(9).view(3,3)"
   ]
  },
  {
   "cell_type": "code",
   "execution_count": 30,
   "id": "23a6edcf-1f48-45ef-aa59-6a4e1b5da43d",
   "metadata": {},
   "outputs": [],
   "source": [
    "class SE(nn.Module):\n",
    "    \"\"\"Squeeze and Excitation on means * variances\"\"\"\n",
    "\n",
    "    def __init__(self, in_channels, se_ratio=0.5):\n",
    "        super(SE, self).__init__()\n",
    "        num_squeezed_channels = max(1, int(in_channels * se_ratio))\n",
    "        self.hs = nn.Hardsigmoid(inplace=True)\n",
    "        self.squeeze = nn.AdaptiveAvgPool2d(1)\n",
    "        self.reduce_expand = nn.Sequential(\n",
    "            nn.Conv2d(in_channels, num_squeezed_channels, 1),\n",
    "            nn.Mish(inplace=True),\n",
    "            nn.Conv2d(num_squeezed_channels, in_channels, 1),\n",
    "            nn.Sigmoid(),\n",
    "        )\n",
    "\n",
    "    def forward(self, x):\n",
    "        x = self.hs(x)\n",
    "        means = self.squeeze(x)\n",
    "        variances = self.squeeze((x - means) ** 2)\n",
    "        attn = self.reduce_expand(means * variances)\n",
    "        print(attn)\n",
    "        order = attn.argsort(dim=1).flatten()\n",
    "        print(order)\n",
    "        return (x * attn)[:, order]"
   ]
  },
  {
   "cell_type": "code",
   "execution_count": 31,
   "id": "f9b32dd4-79b0-4d31-90ea-8f87a677bed1",
   "metadata": {},
   "outputs": [],
   "source": [
    "x = torch.rand(1,4,112,112)"
   ]
  },
  {
   "cell_type": "code",
   "execution_count": 32,
   "id": "23795a24-7193-47be-9771-2e051a34e6da",
   "metadata": {},
   "outputs": [],
   "source": [
    "se = SE(4)"
   ]
  },
  {
   "cell_type": "code",
   "execution_count": 33,
   "id": "aaecdc08-fa56-4565-b33d-e794e5ff7273",
   "metadata": {},
   "outputs": [
    {
     "name": "stdout",
     "output_type": "stream",
     "text": [
      "tensor([[[[0.4127]],\n",
      "\n",
      "         [[0.5872]],\n",
      "\n",
      "         [[0.5059]],\n",
      "\n",
      "         [[0.6416]]]], grad_fn=<SigmoidBackward>)\n",
      "tensor([0, 2, 1, 3])\n"
     ]
    },
    {
     "data": {
      "text/plain": [
       "torch.Size([1, 4, 112, 112])"
      ]
     },
     "execution_count": 33,
     "metadata": {},
     "output_type": "execute_result"
    }
   ],
   "source": [
    "se(x).shape"
   ]
  },
  {
   "cell_type": "code",
   "execution_count": 14,
   "id": "b76f08bb-d8d2-453f-bbfd-4606f7f9a9f6",
   "metadata": {},
   "outputs": [
    {
     "data": {
      "text/plain": [
       "tensor([[0, 1, 2],\n",
       "        [6, 7, 8],\n",
       "        [3, 4, 5]])"
      ]
     },
     "execution_count": 14,
     "metadata": {},
     "output_type": "execute_result"
    }
   ],
   "source": [
    "order = torch.tensor([0,2,1]).long()\n",
    "x[order]"
   ]
  },
  {
   "cell_type": "code",
   "execution_count": null,
   "id": "ab6e4947-3fd6-4695-8c8c-a6892c8dcdec",
   "metadata": {},
   "outputs": [],
   "source": []
  }
 ],
 "metadata": {
  "kernelspec": {
   "display_name": "Python 3",
   "language": "python",
   "name": "python3"
  },
  "language_info": {
   "codemirror_mode": {
    "name": "ipython",
    "version": 3
   },
   "file_extension": ".py",
   "mimetype": "text/x-python",
   "name": "python",
   "nbconvert_exporter": "python",
   "pygments_lexer": "ipython3",
   "version": "3.8.8"
  }
 },
 "nbformat": 4,
 "nbformat_minor": 5
}
