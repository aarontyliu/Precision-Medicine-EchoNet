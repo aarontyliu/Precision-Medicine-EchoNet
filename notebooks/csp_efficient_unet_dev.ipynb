{
 "cells": [
  {
   "cell_type": "code",
   "execution_count": 473,
   "id": "247aa212-676d-4176-8cb0-be847d29cca6",
   "metadata": {},
   "outputs": [],
   "source": [
    "import numpy as np\n",
    "import torch\n",
    "from cspresunet import CSPResUNet\n",
    "from einops import rearrange\n",
    "from einops.layers.torch import Rearrange\n",
    "from torch import nn\n",
    "from torch.nn import functional as F\n",
    "from torchsummary import summary"
   ]
  },
  {
   "cell_type": "code",
   "execution_count": 474,
   "id": "7ec30f3d-6761-48c6-82ce-116a1ebe0b6d",
   "metadata": {},
   "outputs": [],
   "source": [
    "# model = CSPResUNet(1, 1)\n",
    "# summary(model, input_size=(1, 112, 112))"
   ]
  },
  {
   "cell_type": "code",
   "execution_count": 482,
   "id": "e6058776-46bf-4a23-bb77-b207e71aeb0d",
   "metadata": {},
   "outputs": [],
   "source": [
    "reshape = Rearrange(\"(h w) ->h w\", h=112, w=112)\n",
    "reshape_bk = Rearrange(\"(h w) b c -> b c h w\", h=112, w=112)\n",
    "hwcc2nc2 = Rearrange(\"h w c1 c2 -> (h w) (c1 c2)\")\n",
    "total = 112 * 112\n",
    "m = reshape(torch.arange(total))\n",
    "adj = torch.zeros(total, total)\n",
    "emb_dim = 2"
   ]
  },
  {
   "cell_type": "code",
   "execution_count": 476,
   "id": "b148ad0a-3e21-481e-8594-e89189d4517d",
   "metadata": {},
   "outputs": [],
   "source": [
    "neighbor_m = F.pad(m, (1, 1, 1, 1), value=-1).unfold(0, 3, 1).unfold(1, 3, 1)\n",
    "lookup_tb = hwcc2nc2(neighbor_m)\n",
    "for i in range(112 * 112):\n",
    "    result = lookup_tb[i]\n",
    "    neighbors = result[(result != -1)]\n",
    "    adj[i, neighbors] = True\n",
    "adj = adj.bool()\n",
    "W = nn.Linear(8, emb_dim)\n",
    "a = nn.Linear(2 * emb_dim, 1)"
   ]
  },
  {
   "cell_type": "code",
   "execution_count": 477,
   "id": "dc4a5405-813c-4a58-8af7-834aa0b3f68c",
   "metadata": {},
   "outputs": [],
   "source": [
    "o = torch.rand(16, 8, 112, 112)\n",
    "b, c, h, w = o.shape\n",
    "o = rearrange(o, \"b c h w -> b (h w) c\")\n",
    "output = torch.zeros((h * w, b, emb_dim))"
   ]
  },
  {
   "cell_type": "code",
   "execution_count": 478,
   "id": "99e67aab-1429-479a-aa03-0453b34e787d",
   "metadata": {},
   "outputs": [],
   "source": [
    "for i in torch.arange(total):\n",
    "    n = adj[i].sum()\n",
    "    neighbor_idx = torch.where(adj[i] == True)[0]\n",
    "    ref_node = torch.index_select(o, 1, i).repeat_interleave(n, dim=1)\n",
    "    nei_nodes = torch.index_select(o, 1, neighbor_idx)\n",
    "    ref_h_prime = W(ref_node)\n",
    "    nei_h_prime = W(nei_nodes)\n",
    "    stack = torch.cat([ref_h_prime, nei_h_prime], dim=2)\n",
    "    activated = F.leaky_relu(a(stack))\n",
    "    s = torch.sum(activated, dim=1, keepdim=True)\n",
    "    alpha = F.softmax(activated / s, dim=1)\n",
    "    output[i] = (alpha * nei_h_prime).sum(1)"
   ]
  },
  {
   "cell_type": "code",
   "execution_count": 479,
   "id": "7c2c3229-e712-4a4a-843a-44c661c5425d",
   "metadata": {},
   "outputs": [
    {
     "data": {
      "text/plain": [
       "torch.Size([12544, 16, 2])"
      ]
     },
     "execution_count": 479,
     "metadata": {},
     "output_type": "execute_result"
    }
   ],
   "source": [
    "output.shape"
   ]
  },
  {
   "cell_type": "code",
   "execution_count": 481,
   "id": "e398c390-fb6d-41a8-89f6-8edaa8acd2fb",
   "metadata": {},
   "outputs": [
    {
     "data": {
      "text/plain": [
       "torch.Size([16, 2, 112, 112])"
      ]
     },
     "execution_count": 481,
     "metadata": {},
     "output_type": "execute_result"
    }
   ],
   "source": [
    "reshape_bk(output).shape"
   ]
  },
  {
   "cell_type": "code",
   "execution_count": null,
   "id": "f709072a-f245-466d-81b4-124b8582e750",
   "metadata": {},
   "outputs": [],
   "source": []
  }
 ],
 "metadata": {
  "kernelspec": {
   "display_name": "Python 3",
   "language": "python",
   "name": "python3"
  },
  "language_info": {
   "codemirror_mode": {
    "name": "ipython",
    "version": 3
   },
   "file_extension": ".py",
   "mimetype": "text/x-python",
   "name": "python",
   "nbconvert_exporter": "python",
   "pygments_lexer": "ipython3",
   "version": "3.8.8"
  }
 },
 "nbformat": 4,
 "nbformat_minor": 5
}
