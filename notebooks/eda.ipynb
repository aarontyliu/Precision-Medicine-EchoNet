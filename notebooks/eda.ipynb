{
 "cells": [
  {
   "cell_type": "code",
   "execution_count": 18,
   "metadata": {},
   "outputs": [],
   "source": [
    "import pandas as pd"
   ]
  },
  {
   "cell_type": "code",
   "execution_count": 19,
   "metadata": {},
   "outputs": [],
   "source": [
    "filelist = pd.read_csv('/home/tienyu/data/EchoNet-Dynamic/FileList.csv')\n",
    "tracing = pd.read_csv('/home/tienyu/data/EchoNet-Dynamic/VolumeTracings.csv')"
   ]
  },
  {
   "cell_type": "code",
   "execution_count": 20,
   "metadata": {},
   "outputs": [
    {
     "data": {
      "text/html": [
       "<div>\n",
       "<style scoped>\n",
       "    .dataframe tbody tr th:only-of-type {\n",
       "        vertical-align: middle;\n",
       "    }\n",
       "\n",
       "    .dataframe tbody tr th {\n",
       "        vertical-align: top;\n",
       "    }\n",
       "\n",
       "    .dataframe thead th {\n",
       "        text-align: right;\n",
       "    }\n",
       "</style>\n",
       "<table border=\"1\" class=\"dataframe\">\n",
       "  <thead>\n",
       "    <tr style=\"text-align: right;\">\n",
       "      <th></th>\n",
       "      <th>FileName</th>\n",
       "      <th>X1</th>\n",
       "      <th>Y1</th>\n",
       "      <th>X2</th>\n",
       "      <th>Y2</th>\n",
       "      <th>Frame</th>\n",
       "    </tr>\n",
       "  </thead>\n",
       "  <tbody>\n",
       "    <tr>\n",
       "      <th>0</th>\n",
       "      <td>0X100009310A3BD7FC.avi</td>\n",
       "      <td>51.260417</td>\n",
       "      <td>15.348958</td>\n",
       "      <td>64.932292</td>\n",
       "      <td>69.125000</td>\n",
       "      <td>46</td>\n",
       "    </tr>\n",
       "    <tr>\n",
       "      <th>1</th>\n",
       "      <td>0X100009310A3BD7FC.avi</td>\n",
       "      <td>50.037611</td>\n",
       "      <td>17.167841</td>\n",
       "      <td>53.367222</td>\n",
       "      <td>16.321330</td>\n",
       "      <td>46</td>\n",
       "    </tr>\n",
       "    <tr>\n",
       "      <th>2</th>\n",
       "      <td>0X100009310A3BD7FC.avi</td>\n",
       "      <td>49.157378</td>\n",
       "      <td>20.407629</td>\n",
       "      <td>57.090549</td>\n",
       "      <td>18.390722</td>\n",
       "      <td>46</td>\n",
       "    </tr>\n",
       "    <tr>\n",
       "      <th>3</th>\n",
       "      <td>0X100009310A3BD7FC.avi</td>\n",
       "      <td>48.538173</td>\n",
       "      <td>23.581055</td>\n",
       "      <td>59.997339</td>\n",
       "      <td>20.667707</td>\n",
       "      <td>46</td>\n",
       "    </tr>\n",
       "    <tr>\n",
       "      <th>4</th>\n",
       "      <td>0X100009310A3BD7FC.avi</td>\n",
       "      <td>47.918968</td>\n",
       "      <td>26.754480</td>\n",
       "      <td>62.904129</td>\n",
       "      <td>22.944693</td>\n",
       "      <td>46</td>\n",
       "    </tr>\n",
       "    <tr>\n",
       "      <th>...</th>\n",
       "      <td>...</td>\n",
       "      <td>...</td>\n",
       "      <td>...</td>\n",
       "      <td>...</td>\n",
       "      <td>...</td>\n",
       "      <td>...</td>\n",
       "    </tr>\n",
       "    <tr>\n",
       "      <th>425005</th>\n",
       "      <td>0XFEBEEFF93F6FEB9.avi</td>\n",
       "      <td>45.419984</td>\n",
       "      <td>55.131136</td>\n",
       "      <td>69.758942</td>\n",
       "      <td>57.498739</td>\n",
       "      <td>38</td>\n",
       "    </tr>\n",
       "    <tr>\n",
       "      <th>425006</th>\n",
       "      <td>0XFEBEEFF93F6FEB9.avi</td>\n",
       "      <td>45.017994</td>\n",
       "      <td>57.543075</td>\n",
       "      <td>69.399107</td>\n",
       "      <td>59.914779</td>\n",
       "      <td>38</td>\n",
       "    </tr>\n",
       "    <tr>\n",
       "      <th>425007</th>\n",
       "      <td>0XFEBEEFF93F6FEB9.avi</td>\n",
       "      <td>44.616005</td>\n",
       "      <td>59.955014</td>\n",
       "      <td>69.039271</td>\n",
       "      <td>62.330818</td>\n",
       "      <td>38</td>\n",
       "    </tr>\n",
       "    <tr>\n",
       "      <th>425008</th>\n",
       "      <td>0XFEBEEFF93F6FEB9.avi</td>\n",
       "      <td>44.214015</td>\n",
       "      <td>62.366952</td>\n",
       "      <td>68.712853</td>\n",
       "      <td>64.750108</td>\n",
       "      <td>38</td>\n",
       "    </tr>\n",
       "    <tr>\n",
       "      <th>425009</th>\n",
       "      <td>0XFEBEEFF93F6FEB9.avi</td>\n",
       "      <td>59.371804</td>\n",
       "      <td>66.292488</td>\n",
       "      <td>68.501507</td>\n",
       "      <td>67.180591</td>\n",
       "      <td>38</td>\n",
       "    </tr>\n",
       "  </tbody>\n",
       "</table>\n",
       "<p>425010 rows × 6 columns</p>\n",
       "</div>"
      ],
      "text/plain": [
       "                      FileName         X1         Y1         X2         Y2  \\\n",
       "0       0X100009310A3BD7FC.avi  51.260417  15.348958  64.932292  69.125000   \n",
       "1       0X100009310A3BD7FC.avi  50.037611  17.167841  53.367222  16.321330   \n",
       "2       0X100009310A3BD7FC.avi  49.157378  20.407629  57.090549  18.390722   \n",
       "3       0X100009310A3BD7FC.avi  48.538173  23.581055  59.997339  20.667707   \n",
       "4       0X100009310A3BD7FC.avi  47.918968  26.754480  62.904129  22.944693   \n",
       "...                        ...        ...        ...        ...        ...   \n",
       "425005   0XFEBEEFF93F6FEB9.avi  45.419984  55.131136  69.758942  57.498739   \n",
       "425006   0XFEBEEFF93F6FEB9.avi  45.017994  57.543075  69.399107  59.914779   \n",
       "425007   0XFEBEEFF93F6FEB9.avi  44.616005  59.955014  69.039271  62.330818   \n",
       "425008   0XFEBEEFF93F6FEB9.avi  44.214015  62.366952  68.712853  64.750108   \n",
       "425009   0XFEBEEFF93F6FEB9.avi  59.371804  66.292488  68.501507  67.180591   \n",
       "\n",
       "        Frame  \n",
       "0          46  \n",
       "1          46  \n",
       "2          46  \n",
       "3          46  \n",
       "4          46  \n",
       "...       ...  \n",
       "425005     38  \n",
       "425006     38  \n",
       "425007     38  \n",
       "425008     38  \n",
       "425009     38  \n",
       "\n",
       "[425010 rows x 6 columns]"
      ]
     },
     "execution_count": 20,
     "metadata": {},
     "output_type": "execute_result"
    }
   ],
   "source": [
    "tracing"
   ]
  },
  {
   "cell_type": "code",
   "execution_count": 27,
   "metadata": {},
   "outputs": [],
   "source": [
    "import numpy as np"
   ]
  },
  {
   "cell_type": "code",
   "execution_count": 50,
   "metadata": {},
   "outputs": [],
   "source": [
    "F = 0\n",
    "valid = 0\n",
    "grouped_tracing = tracing.groupby('FileName')\n",
    "for k, _ in grouped_tracing:  \n",
    "    g = grouped_tracing.get_group(k).groupby('Frame')\n",
    "    f1, f2 = [k2 for k2, _ in g]\n",
    "    assert f1 < f2\n",
    "    if np.abs(f1 -f2) < 17:\n",
    "        valid += 1"
   ]
  },
  {
   "cell_type": "code",
   "execution_count": 51,
   "metadata": {},
   "outputs": [
    {
     "data": {
      "text/plain": [
       "5168"
      ]
     },
     "execution_count": 51,
     "metadata": {},
     "output_type": "execute_result"
    }
   ],
   "source": [
    "valid"
   ]
  },
  {
   "cell_type": "code",
   "execution_count": null,
   "metadata": {},
   "outputs": [],
   "source": [
    "# and f2 in list(range(f1, f1+64, 2))"
   ]
  }
 ],
 "metadata": {
  "kernelspec": {
   "display_name": "Python 3",
   "language": "python",
   "name": "python3"
  },
  "language_info": {
   "codemirror_mode": {
    "name": "ipython",
    "version": 3
   },
   "file_extension": ".py",
   "mimetype": "text/x-python",
   "name": "python",
   "nbconvert_exporter": "python",
   "pygments_lexer": "ipython3",
   "version": "3.7.6"
  }
 },
 "nbformat": 4,
 "nbformat_minor": 4
}
