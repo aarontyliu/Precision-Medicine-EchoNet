{
 "cells": [
  {
   "cell_type": "code",
   "execution_count": 1,
   "metadata": {},
   "outputs": [],
   "source": [
    "import time\n",
    "\n",
    "import pandas as pd\n",
    "import torch\n",
    "import torch.nn as nn\n",
    "import torch.optim as optim\n",
    "import torchvision.transforms as transforms\n",
    "from torch.optim import lr_scheduler\n",
    "from torch.utils.data import DataLoader\n",
    "from tqdm.notebook import tqdm\n",
    "\n",
    "from datasets import EchoNetDataset\n",
    "from models import EchoNet"
   ]
  },
  {
   "cell_type": "code",
   "execution_count": 2,
   "metadata": {},
   "outputs": [],
   "source": [
    "video_dir = \"/home/tienyu/data/EchoNet-Dynamic/Videos\"\n",
    "target_csv = \"/home/tienyu/data/EchoNet-Dynamic/FileList.csv\"\n",
    "\n",
    "batch_size = 16\n",
    "num_epochs = 50\n",
    "log_every = 200\n",
    "lr = 1e-4"
   ]
  },
  {
   "cell_type": "code",
   "execution_count": 3,
   "metadata": {},
   "outputs": [
    {
     "name": "stderr",
     "output_type": "stream",
     "text": [
      "Fetching masks: 100%|██████████| 7419/7419 [00:24<00:00, 302.58it/s]\n",
      "Fetching masks: 100%|██████████| 1279/1279 [00:04<00:00, 302.46it/s]\n"
     ]
    }
   ],
   "source": [
    "# Transformation for frames -> grayscale images\n",
    "transform = transforms.Compose([\n",
    "    transforms.Grayscale(num_output_channels=1),\n",
    "])\n",
    "\n",
    "# Input management\n",
    "trainset = EchoNetDataset(\n",
    "    video_dir=video_dir,\n",
    "    target_csv=target_csv,\n",
    "    split=\"train\",\n",
    "    transform=transform,\n",
    ")\n",
    "\n",
    "valset = EchoNetDataset(\n",
    "    video_dir=video_dir,\n",
    "    target_csv=target_csv,\n",
    "    split=\"val\",\n",
    "    transform=transform,\n",
    ")\n",
    "\n",
    "trainloader = DataLoader(trainset, batch_size=1)\n",
    "valloader = DataLoader(valset, batch_size=1)"
   ]
  },
  {
   "cell_type": "code",
   "execution_count": 4,
   "metadata": {},
   "outputs": [
    {
     "data": {
      "application/vnd.jupyter.widget-view+json": {
       "model_id": "bfbdde9a6788435abbee2aeae48b11ca",
       "version_major": 2,
       "version_minor": 0
      },
      "text/plain": [
       "HBox(children=(FloatProgress(value=0.0, max=7419.0), HTML(value='')))"
      ]
     },
     "metadata": {},
     "output_type": "display_data"
    },
    {
     "name": "stdout",
     "output_type": "stream",
     "text": [
      "\n"
     ]
    }
   ],
   "source": [
    "for (video_tensor, edv_frame, esv_frame), (ef, edv, esv), (edv_mask, esv_mask) in tqdm(trainloader.dataset, total=len(trainloader.dataset)):\n",
    "    if edv_mask.sum() < esv_mask.sum():\n",
    "        print('error!')\n",
    "        break"
   ]
  },
  {
   "cell_type": "code",
   "execution_count": null,
   "metadata": {},
   "outputs": [],
   "source": []
  }
 ],
 "metadata": {
  "kernelspec": {
   "display_name": "Python 3",
   "language": "python",
   "name": "python3"
  },
  "language_info": {
   "codemirror_mode": {
    "name": "ipython",
    "version": 3
   },
   "file_extension": ".py",
   "mimetype": "text/x-python",
   "name": "python",
   "nbconvert_exporter": "python",
   "pygments_lexer": "ipython3",
   "version": "3.7.6"
  }
 },
 "nbformat": 4,
 "nbformat_minor": 4
}
