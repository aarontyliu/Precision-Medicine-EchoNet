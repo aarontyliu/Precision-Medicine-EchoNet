{
 "cells": [
  {
   "cell_type": "code",
   "execution_count": 15,
   "id": "571a0abb-f17b-4135-81ad-0f59edc230a0",
   "metadata": {},
   "outputs": [],
   "source": [
    "import torch\n",
    "from torch import nn\n",
    "from torch.nn import functional as F"
   ]
  },
  {
   "cell_type": "code",
   "execution_count": null,
   "id": "85baaf56-4fba-4931-ac80-ddeb54a653c0",
   "metadata": {},
   "outputs": [],
   "source": [
    "class MedianPool2d(nn.Module):\n",
    "    \"\"\" Median pool (usable as median filter when stride=1) module.\n",
    "    \n",
    "    Args:\n",
    "         kernel_size: size of pooling kernel, int or 2-tuple\n",
    "         stride: pool stride, int or 2-tuple\n",
    "         padding: pool padding, int or 4-tuple (l, r, t, b) as in pytorch F.pad\n",
    "         same: override padding and enforce same padding, boolean\n",
    "    \"\"\"\n",
    "    def __init__(self, kernel_size=3, stride=1, padding=0, same=False):\n",
    "        super(MedianPool2d, self).__init__()\n",
    "        self.k = _pair(kernel_size)\n",
    "        self.stride = _pair(stride)\n",
    "        self.padding = _quadruple(padding)  # convert to l, r, t, b\n",
    "        self.same = same\n",
    "\n",
    "    def _padding(self, x):\n",
    "        if self.same:\n",
    "            ih, iw = x.size()[2:]\n",
    "            if ih % self.stride[0] == 0:\n",
    "                ph = max(self.k[0] - self.stride[0], 0)\n",
    "            else:\n",
    "                ph = max(self.k[0] - (ih % self.stride[0]), 0)\n",
    "            if iw % self.stride[1] == 0:\n",
    "                pw = max(self.k[1] - self.stride[1], 0)\n",
    "            else:\n",
    "                pw = max(self.k[1] - (iw % self.stride[1]), 0)\n",
    "            pl = pw // 2\n",
    "            pr = pw - pl\n",
    "            pt = ph // 2\n",
    "            pb = ph - pt\n",
    "            padding = (pl, pr, pt, pb)\n",
    "        else:\n",
    "            padding = self.padding\n",
    "        return padding\n",
    "    \n",
    "    def forward(self, x):\n",
    "        # using existing pytorch functions and tensor ops so that we get autograd, \n",
    "        # would likely be more efficient to implement from scratch at C/Cuda level\n",
    "        x = F.pad(x, self._padding(x), mode='reflect')\n",
    "        x = x.unfold(2, self.k[0], self.stride[0]).unfold(3, self.k[1], self.stride[1])\n",
    "        x = x.contiguous().view(x.size()[:4] + (-1,)).median(dim=-1)[0]\n",
    "        return x"
   ]
  },
  {
   "cell_type": "code",
   "execution_count": 16,
   "id": "23a6edcf-1f48-45ef-aa59-6a4e1b5da43d",
   "metadata": {},
   "outputs": [],
   "source": [
    "class DPP(nn.Module):\n",
    "    \"\"\"Squeeze and Excitation on means * variances\"\"\"\n",
    "\n",
    "    def __init__(self, in_channels):\n",
    "        super(DPP, self).__init__()\n",
    "        self.beta = nn.Parameter(torch.Tensor([1.0]))\n",
    "        self.alpha = nn.Parameter(torch.Tensor([1.0]))\n",
    "\n",
    "    def forward(self, x):\n",
    "        pass"
   ]
  },
  {
   "cell_type": "code",
   "execution_count": 17,
   "id": "f9b32dd4-79b0-4d31-90ea-8f87a677bed1",
   "metadata": {},
   "outputs": [],
   "source": [
    "x = torch.rand(2, 4, 112, 112)"
   ]
  },
  {
   "cell_type": "code",
   "execution_count": 18,
   "id": "ab6e4947-3fd6-4695-8c8c-a6892c8dcdec",
   "metadata": {},
   "outputs": [],
   "source": [
    "def rho(x, beta=1.0, eps=1e-5):\n",
    "    return torch.sqrt(x ** 2 + eps)"
   ]
  },
  {
   "cell_type": "code",
   "execution_count": 31,
   "id": "2f23c3ee-ca94-4d91-a97d-b7b24c99c348",
   "metadata": {},
   "outputs": [
    {
     "data": {
      "text/plain": [
       "torch.Size([2, 1, 56, 56])"
      ]
     },
     "execution_count": 31,
     "metadata": {},
     "output_type": "execute_result"
    }
   ],
   "source": [
    "ker = torch.Tensor([[[[1/4, 1/4], [1/4, 1/4]]]]).repeat_interleave(4, dim=1)\n",
    "F.conv2d(x, weight=ker, stride=2)"
   ]
  },
  {
   "cell_type": "code",
   "execution_count": 24,
   "id": "50faf611-84b0-4ea5-9ead-a75260f12ec2",
   "metadata": {},
   "outputs": [
    {
     "ename": "NameError",
     "evalue": "name 'alpha' is not defined",
     "output_type": "error",
     "traceback": [
      "\u001b[0;31m---------------------------------------------------------------------------\u001b[0m",
      "\u001b[0;31mNameError\u001b[0m                                 Traceback (most recent call last)",
      "\u001b[0;32m<ipython-input-24-fadc936f60b9>\u001b[0m in \u001b[0;36m<module>\u001b[0;34m\u001b[0m\n\u001b[0;32m----> 1\u001b[0;31m \u001b[0malpha\u001b[0m \u001b[0;34m+\u001b[0m \u001b[0mrho\u001b[0m\u001b[0;34m(\u001b[0m\u001b[0mx\u001b[0m\u001b[0;34m)\u001b[0m\u001b[0;34m\u001b[0m\u001b[0;34m\u001b[0m\u001b[0m\n\u001b[0m",
      "\u001b[0;31mNameError\u001b[0m: name 'alpha' is not defined"
     ]
    }
   ],
   "source": [
    "alpha + rho(x)"
   ]
  },
  {
   "cell_type": "code",
   "execution_count": 14,
   "id": "00df9cac-0168-49f5-ad85-273b1a3e867f",
   "metadata": {},
   "outputs": [
    {
     "data": {
      "text/plain": [
       "torch.Size([2, 4, 56, 56, 2, 2])"
      ]
     },
     "execution_count": 14,
     "metadata": {},
     "output_type": "execute_result"
    }
   ],
   "source": [
    "x.unfold(2, 2, 2).unfold(3, 2, 2)"
   ]
  }
 ],
 "metadata": {
  "kernelspec": {
   "display_name": "Python 3",
   "language": "python",
   "name": "python3"
  },
  "language_info": {
   "codemirror_mode": {
    "name": "ipython",
    "version": 3
   },
   "file_extension": ".py",
   "mimetype": "text/x-python",
   "name": "python",
   "nbconvert_exporter": "python",
   "pygments_lexer": "ipython3",
   "version": "3.8.8"
  }
 },
 "nbformat": 4,
 "nbformat_minor": 5
}
