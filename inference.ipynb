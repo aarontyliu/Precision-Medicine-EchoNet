{
 "cells": [
  {
   "cell_type": "code",
   "execution_count": 20,
   "metadata": {},
   "outputs": [],
   "source": [
    "import os\n",
    "\n",
    "import matplotlib.pyplot as plt\n",
    "import numpy as np\n",
    "import pandas as pd\n",
    "import torch\n",
    "import torchvision.transforms as transforms\n",
    "from imageio import mimwrite\n",
    "from PIL import Image, ImageDraw\n",
    "from sklearn.preprocessing import minmax_scale\n",
    "from torch.utils.data import DataLoader, Dataset\n",
    "from torchvision.io import read_video, write_video\n",
    "\n",
    "from models import EchoNet"
   ]
  },
  {
   "cell_type": "code",
   "execution_count": 21,
   "metadata": {},
   "outputs": [],
   "source": [
    "device = 'cuda' if torch.cuda.is_available() else 'cpu'\n",
    "output_dir = 'output'\n",
    "video_path = '/home/tienyu/data/EchoNet-Dynamic/Videos/'"
   ]
  },
  {
   "cell_type": "code",
   "execution_count": 22,
   "metadata": {},
   "outputs": [
    {
     "data": {
      "text/plain": [
       "<All keys matched successfully>"
      ]
     },
     "execution_count": 22,
     "metadata": {},
     "output_type": "execute_result"
    }
   ],
   "source": [
    "model = EchoNet(device).to(device)\n",
    "model.load_state_dict(torch.load('checkpoints/best.pt'))"
   ]
  },
  {
   "cell_type": "code",
   "execution_count": 23,
   "metadata": {},
   "outputs": [],
   "source": [
    "filelist = pd.read_csv('/home/tienyu/data/EchoNet-Dynamic/FileList.csv')\n",
    "test_filelist = filelist[filelist.Split == 'TEST']"
   ]
  },
  {
   "cell_type": "code",
   "execution_count": 24,
   "metadata": {},
   "outputs": [],
   "source": [
    "idx = 160\n",
    "instance_filename = test_filelist.FileName.iloc[idx]\n",
    "instance_fps = test_filelist.FPS.iloc[idx]\n",
    "instance_path = os.path.join(video_path, instance_filename) + '.avi'"
   ]
  },
  {
   "cell_type": "code",
   "execution_count": 25,
   "metadata": {},
   "outputs": [],
   "source": [
    "video = read_video(instance_path, pts_unit='sec')[0].permute(0, 3, 1, 2)/255.\n",
    "grayscaled = transforms.Grayscale(num_output_channels=1)(video)\n",
    "grayscaled = grayscaled.to(device)\n",
    "model.eval()\n",
    "\n",
    "masks = []\n",
    "volumes = []\n",
    "with torch.no_grad():\n",
    "    for vs in DataLoader(grayscaled, batch_size=32):\n",
    "        m, x = model(vs)\n",
    "        masks.append(m)\n",
    "        volumes.append(x)\n",
    "masks = torch.cat(masks).repeat(1, 3, 1, 1).detach().cpu()\n",
    "masks = (torch.sigmoid(masks) > 0.5).float()\n",
    "masks[:,:2,:,:] = 0 # make blue color mask\n",
    "video = video.detach().cpu()\n",
    "masked = torch.clip(masks + video, min=0., max=0.99)\n",
    "volumes = torch.cat(volumes).detach().cpu().numpy().flatten()"
   ]
  },
  {
   "cell_type": "code",
   "execution_count": 26,
   "metadata": {},
   "outputs": [],
   "source": [
    "frames = minmax_scale(np.arange(len(video)), feature_range=(5,100))\n",
    "scaled = minmax_scale(-volumes, feature_range=(10,30))\n",
    "output = []\n",
    "for i, m in enumerate([transforms.ToPILImage()(m) for m in masked]):\n",
    "    canvas = Image.new('RGB', (144, 144))\n",
    "    canvas.paste(m, (0,0))\n",
    "    draw = ImageDraw.Draw(canvas)\n",
    "    annot = list(zip(frames[:i], scaled[:i]+110))\n",
    "    draw.line(annot, joint='curve', fill='green')\n",
    "    output.append(canvas)"
   ]
  },
  {
   "cell_type": "code",
   "execution_count": 14,
   "metadata": {},
   "outputs": [
    {
     "name": "stdout",
     "output_type": "stream",
     "text": [
      "Output video is saved to output/0X20C87FB09C5485FA.avi\n"
     ]
    }
   ],
   "source": [
    "mimwrite(os.path.join(output_dir, instance_filename)+'.avi', np.stack(output), fps=instance_fps.astype(float))\n",
    "print(f\"Output video is saved to {os.path.join(output_dir, instance_filename)+'.avi'}\")"
   ]
  },
  {
   "cell_type": "code",
   "execution_count": 36,
   "metadata": {},
   "outputs": [
    {
     "data": {
      "text/plain": [
       "55.12381681"
      ]
     },
     "execution_count": 36,
     "metadata": {},
     "output_type": "execute_result"
    }
   ],
   "source": [
    "test_filelist.EF.iloc[idx]"
   ]
  },
  {
   "cell_type": "code",
   "execution_count": 51,
   "metadata": {},
   "outputs": [
    {
     "data": {
      "text/plain": [
       "tensor([[54.5355]], device='cuda:0')"
      ]
     },
     "execution_count": 51,
     "metadata": {},
     "output_type": "execute_result"
    }
   ],
   "source": [
    "s = 70\n",
    "model._get_pseudo_ef(grayscaled[s:s+64:4].unsqueeze(0))*100"
   ]
  },
  {
   "cell_type": "code",
   "execution_count": 61,
   "metadata": {},
   "outputs": [],
   "source": [
    "x = torch.rand(5,1)"
   ]
  },
  {
   "cell_type": "code",
   "execution_count": 66,
   "metadata": {},
   "outputs": [
    {
     "data": {
      "text/plain": [
       "tensor([[0.9939],\n",
       "        [0.9980],\n",
       "        [0.8540]])"
      ]
     },
     "execution_count": 66,
     "metadata": {},
     "output_type": "execute_result"
    }
   ],
   "source": [
    "j = torch.where(torch.tensor([0,1,0,1,1])!=0)\n",
    "x[j]"
   ]
  },
  {
   "cell_type": "code",
   "execution_count": null,
   "metadata": {},
   "outputs": [],
   "source": []
  }
 ],
 "metadata": {
  "kernelspec": {
   "display_name": "Python 3",
   "language": "python",
   "name": "python3"
  },
  "language_info": {
   "codemirror_mode": {
    "name": "ipython",
    "version": 3
   },
   "file_extension": ".py",
   "mimetype": "text/x-python",
   "name": "python",
   "nbconvert_exporter": "python",
   "pygments_lexer": "ipython3",
   "version": "3.7.6"
  }
 },
 "nbformat": 4,
 "nbformat_minor": 4
}
